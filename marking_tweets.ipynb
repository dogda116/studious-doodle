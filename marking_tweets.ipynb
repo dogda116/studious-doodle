{
  "nbformat": 4,
  "nbformat_minor": 0,
  "metadata": {
    "colab": {
      "name": "marking_tweets.ipynb",
      "provenance": [],
      "collapsed_sections": []
    },
    "kernelspec": {
      "name": "python3",
      "display_name": "Python 3"
    },
    "language_info": {
      "name": "python"
    }
  },
  "cells": [
    {
      "cell_type": "code",
      "metadata": {
        "id": "-j08w2ygfukg"
      },
      "source": [
        "import numpy as np\n",
        "import pandas as pd\n",
        "from google.colab import output"
      ],
      "execution_count": null,
      "outputs": []
    },
    {
      "cell_type": "code",
      "metadata": {
        "colab": {
          "base_uri": "https://localhost:8080/"
        },
        "id": "r2XIvGlwf384",
        "outputId": "63639b51-d908-4864-c11b-9864669d973e"
      },
      "source": [
        "tweets = pd.read_csv('drive/MyDrive/colab/tweets.csv')"
      ],
      "execution_count": null,
      "outputs": [
        {
          "output_type": "execute_result",
          "data": {
            "text/plain": [
              "1.0    183\n",
              "2.0     60\n",
              "3.0     45\n",
              "Name: Preference, dtype: int64"
            ]
          },
          "metadata": {
            "tags": []
          },
          "execution_count": 12
        }
      ]
    },
    {
      "cell_type": "code",
      "metadata": {
        "colab": {
          "base_uri": "https://localhost:8080/"
        },
        "id": "tYXIufJWxUhD",
        "outputId": "f5711cdd-8f44-4704-c136-ff0fce550bf8"
      },
      "source": [
        ""
      ],
      "execution_count": null,
      "outputs": [
        {
          "output_type": "stream",
          "text": [
            "From @SOSHealthPlan:\n",
            "The entire duty of unions is to protect the most vulnerable members.\n",
            "95% of #SAGAFTRA members earn &lt;25K/yr. \n",
            "12K just got kicked off their health plan. During a pandemic.\n",
            "From @HamillHimself: This is not just a betrayal. THIS. IS. CRIMINAL. #SOSHealthPlan https://t.co/B4drsAzXbO\n",
            "\n",
            "@TheSimDoughnut I am not a citizen of the US but a permanent resident since 1987 and I pay US taxes. I struggle to keep a low profile.\n",
            "\n",
            "My dear friend @NormanChad helped out a wonderful local restaurant he frequents. I’m pleased to support small businesses under the gun in America today. California’s high taxes, egregious regulations, and Democrat riots have made survival a challenge. Bravo, Norm! https://t.co/XATmWLdh9y\n",
            "\n",
            "I’ve already paid all the taxes on every dollar I ever made, and now this political hack and his knee pad confederate are coming after my savings. And yours! https://t.co/bYVMZQHfnG\n",
            "\n",
            "#VoteNOonProp15  Proposition 15 is a Trojan horse to eradicate Proposition 13, the sacrosanct measure that protects your property tax rate. If Prop 15 passes, you’ll have some Democrat tax “assessor” decide your taxes on a whim. Family-loving working people will be destroyed.\n",
            "\n",
            "Yep. High taxes, riots, and streets littered with needles and human waste. https://t.co/B4yOvO4Q3k\n",
            "\n",
            "Trump would cut taxes by about $1.7T, Biden would hike by $4.3T: Budget watchdog // Sky high taxes under Harris/Biden  https://t.co/sTUr8r9XsA\n",
            "\n",
            "“If you vote for me your taxes are going to be raised, not cut.” – Joe Biden https://t.co/llFZnxo1Cw\n",
            "\n",
            "Meanwhile fires rage in Canada. Oh wait! Sorry, that’s California. Canada has sensible forestry management protocols. California has idiot Gavin Newsom blabbering about climate change and, like all Democrats, doing nothing but raising taxes. https://t.co/EgPKO9lzyt\n",
            "\n",
            "Outnumbered and out gunned, Trump was an everyman tough guy who declared very clearly he wasn’t about to take any crap from a tired career political hack and his media gunsel. Imagine if Trump had been able to answer one question uninterrupted and Biden been forced to answer his.\n",
            "\n"
          ],
          "name": "stdout"
        }
      ]
    },
    {
      "cell_type": "code",
      "metadata": {
        "id": "5yOTYxZYkOVe"
      },
      "source": [
        "def mark(df, done):\n",
        "    j = 1\n",
        "    for i, tweet in df.iterrows():\n",
        "        output.clear()\n",
        "        print('tweet number', i)\n",
        "        print('num {} of {} in sample'.format(j, df.shape[0]))\n",
        "        print('username:', tweet['Username'], '\\n')\n",
        "        print(tweet['Text'], '\\n')\n",
        "        print('Current preference:', tweet['Preference'])\n",
        "        preference = int(input())\n",
        "        tweets.at[i, 'Preference'] = preference\n",
        "        j += 1\n",
        "        done.append(i)"
      ],
      "execution_count": null,
      "outputs": []
    },
    {
      "cell_type": "code",
      "metadata": {
        "id": "QKR6ZnpXjSeY",
        "colab": {
          "base_uri": "https://localhost:8080/"
        },
        "outputId": "37b76d09-fcb9-4c4d-cdbb-dce02170286d"
      },
      "source": [
        "batch_size = 10\n",
        "sample = np.random.randint(tweets.shape[0], size=batch_size)\n",
        "\n",
        "done = []\n",
        "mark(tweets.iloc[sample], done)"
      ],
      "execution_count": null,
      "outputs": [
        {
          "output_type": "stream",
          "text": [
            "tweet number 17975\n",
            "num in sample 9\n",
            "username: camerondallas \n",
            "\n",
            "fuck my songs are so good \n",
            "\n",
            "Current preference: nan\n",
            "2\n"
          ],
          "name": "stdout"
        }
      ]
    },
    {
      "cell_type": "code",
      "metadata": {
        "colab": {
          "base_uri": "https://localhost:8080/"
        },
        "id": "jKELBC5ozrCX",
        "outputId": "abfea90f-3d89-4191-bda6-a661fc993747"
      },
      "source": [
        "done"
      ],
      "execution_count": null,
      "outputs": [
        {
          "output_type": "execute_result",
          "data": {
            "text/plain": [
              "[95982, 87719, 72393, 23548, 89335, 56920, 69094, 46595, 6747, 17975]"
            ]
          },
          "metadata": {
            "tags": []
          },
          "execution_count": 27
        }
      ]
    },
    {
      "cell_type": "code",
      "metadata": {
        "id": "HUA02h6Wyfc7"
      },
      "source": [
        "marked_tweets = pd.DataFrame(done, columns=['id'])\n",
        "marked_tweets.to_csv('drive/MyDrive/colab/marked_tweets_ids.csv', index=False, mode='a')\n",
        "\n",
        "tweets.to_csv('drive/MyDrive/colab/tweets.csv', index=False)"
      ],
      "execution_count": null,
      "outputs": []
    },
    {
      "cell_type": "code",
      "metadata": {
        "colab": {
          "base_uri": "https://localhost:8080/"
        },
        "id": "aKjwo7swx0zM",
        "outputId": "aa64939f-fd7d-488b-f3fe-3cf18afa3975"
      },
      "source": [
        "done = []\n",
        "mark(tweets[tweets['Text'].str.contains('Conservative')], done)"
      ],
      "execution_count": null,
      "outputs": [
        {
          "output_type": "stream",
          "text": [
            "tweet number 92127\n",
            "num 7 of 7 in sample\n",
            "username: robreiner \n",
            "\n",
            "The fear induced misguided Brexit referendum was a vote to cripple the UK. Similarly the racial fears that stoked the misguided election of The Lying Moron was a vote to cripple Democracy. Conservatives in the UK have stood up to save their country. Where is the GOP to save US? \n",
            "\n",
            "Current preference: nan\n",
            "1\n"
          ],
          "name": "stdout"
        }
      ]
    },
    {
      "cell_type": "code",
      "metadata": {
        "id": "pk1oJ0cUICKV"
      },
      "source": [
        "marked_tweets = pd.DataFrame(done, columns=['id'])\n",
        "marked_tweets.to_csv('drive/MyDrive/colab/marked_tweets_ids.csv', index=False, mode='a')\n",
        "\n",
        "tweets.to_csv('drive/MyDrive/colab/tweets.csv', index=False)"
      ],
      "execution_count": null,
      "outputs": []
    },
    {
      "cell_type": "code",
      "metadata": {
        "colab": {
          "base_uri": "https://localhost:8080/",
          "height": 359
        },
        "id": "XuzBGdUokXZP",
        "outputId": "b7a7160e-1abd-4769-b917-390e8a9efc2e"
      },
      "source": [
        "tweets.iloc[sample]"
      ],
      "execution_count": null,
      "outputs": [
        {
          "output_type": "execute_result",
          "data": {
            "text/html": [
              "<div>\n",
              "<style scoped>\n",
              "    .dataframe tbody tr th:only-of-type {\n",
              "        vertical-align: middle;\n",
              "    }\n",
              "\n",
              "    .dataframe tbody tr th {\n",
              "        vertical-align: top;\n",
              "    }\n",
              "\n",
              "    .dataframe thead th {\n",
              "        text-align: right;\n",
              "    }\n",
              "</style>\n",
              "<table border=\"1\" class=\"dataframe\">\n",
              "  <thead>\n",
              "    <tr style=\"text-align: right;\">\n",
              "      <th></th>\n",
              "      <th>Username</th>\n",
              "      <th>Text</th>\n",
              "      <th>Date</th>\n",
              "      <th>id</th>\n",
              "      <th>Preference</th>\n",
              "    </tr>\n",
              "  </thead>\n",
              "  <tbody>\n",
              "    <tr>\n",
              "      <th>60261</th>\n",
              "      <td>itsgabrielleu</td>\n",
              "      <td>Every route I've ever taken in life has been r...</td>\n",
              "      <td>2020-05-11 17:37:12+00:00</td>\n",
              "      <td>1.259900e+18</td>\n",
              "      <td>2.0</td>\n",
              "    </tr>\n",
              "    <tr>\n",
              "      <th>86677</th>\n",
              "      <td>ElizabethBanks</td>\n",
              "      <td>Tonight is the last episode of #ModernFamily e...</td>\n",
              "      <td>2020-04-08 17:39:14+00:00</td>\n",
              "      <td>1.247942e+18</td>\n",
              "      <td>2.0</td>\n",
              "    </tr>\n",
              "    <tr>\n",
              "      <th>57802</th>\n",
              "      <td>HamillHimself</td>\n",
              "      <td>@fernandaholmes0 👍!!!</td>\n",
              "      <td>2021-02-25 07:51:16+00:00</td>\n",
              "      <td>1.364845e+18</td>\n",
              "      <td>2.0</td>\n",
              "    </tr>\n",
              "    <tr>\n",
              "      <th>10962</th>\n",
              "      <td>StephenAtHome</td>\n",
              "      <td>TRUMP: Putin says he didn’t do it. So I believ...</td>\n",
              "      <td>2018-07-17 01:10:26+00:00</td>\n",
              "      <td>1.019027e+18</td>\n",
              "      <td>1.0</td>\n",
              "    </tr>\n",
              "    <tr>\n",
              "      <th>80263</th>\n",
              "      <td>McConaughey</td>\n",
              "      <td>sweet! what color did you go for? RT @TeamTubb...</td>\n",
              "      <td>2011-05-11 23:50:23+00:00</td>\n",
              "      <td>6.846299e+16</td>\n",
              "      <td>2.0</td>\n",
              "    </tr>\n",
              "    <tr>\n",
              "      <th>18296</th>\n",
              "      <td>TheRock</td>\n",
              "      <td>This is for all my gamers &amp;amp; creators!🔥🎮 I ...</td>\n",
              "      <td>2021-03-18 14:49:12+00:00</td>\n",
              "      <td>1.372561e+18</td>\n",
              "      <td>2.0</td>\n",
              "    </tr>\n",
              "    <tr>\n",
              "      <th>91333</th>\n",
              "      <td>robreiner</td>\n",
              "      <td>When Donald Trump is tried for inciting a dead...</td>\n",
              "      <td>2021-01-25 14:33:50+00:00</td>\n",
              "      <td>1.353713e+18</td>\n",
              "      <td>1.0</td>\n",
              "    </tr>\n",
              "    <tr>\n",
              "      <th>61782</th>\n",
              "      <td>KevinSpacey</td>\n",
              "      <td>.@SimonCowell Why... did you miss me? Recogniz...</td>\n",
              "      <td>2014-12-03 01:52:53+00:00</td>\n",
              "      <td>5.399604e+17</td>\n",
              "      <td>2.0</td>\n",
              "    </tr>\n",
              "    <tr>\n",
              "      <th>24459</th>\n",
              "      <td>SarahKSilverman</td>\n",
              "      <td>@benjpasek mended shmata</td>\n",
              "      <td>2021-02-23 06:41:01+00:00</td>\n",
              "      <td>1.364103e+18</td>\n",
              "      <td>2.0</td>\n",
              "    </tr>\n",
              "    <tr>\n",
              "      <th>54256</th>\n",
              "      <td>dylanobrien</td>\n",
              "      <td>Thank youuuu :)</td>\n",
              "      <td>2013-09-12 02:28:25+00:00</td>\n",
              "      <td>3.779820e+17</td>\n",
              "      <td>2.0</td>\n",
              "    </tr>\n",
              "  </tbody>\n",
              "</table>\n",
              "</div>"
            ],
            "text/plain": [
              "              Username  ... Preference\n",
              "60261    itsgabrielleu  ...        2.0\n",
              "86677   ElizabethBanks  ...        2.0\n",
              "57802    HamillHimself  ...        2.0\n",
              "10962    StephenAtHome  ...        1.0\n",
              "80263      McConaughey  ...        2.0\n",
              "18296          TheRock  ...        2.0\n",
              "91333        robreiner  ...        1.0\n",
              "61782      KevinSpacey  ...        2.0\n",
              "24459  SarahKSilverman  ...        2.0\n",
              "54256      dylanobrien  ...        2.0\n",
              "\n",
              "[10 rows x 5 columns]"
            ]
          },
          "metadata": {
            "tags": []
          },
          "execution_count": 11
        }
      ]
    },
    {
      "cell_type": "code",
      "metadata": {
        "id": "vhTmt-ywkhVJ",
        "colab": {
          "base_uri": "https://localhost:8080/",
          "height": 948
        },
        "outputId": "7a88854d-27ea-4072-afa0-cf36e708342b"
      },
      "source": [
        "tweets[tweets['Text'].str.contains('taxes')]"
      ],
      "execution_count": null,
      "outputs": [
        {
          "output_type": "execute_result",
          "data": {
            "text/html": [
              "<div>\n",
              "<style scoped>\n",
              "    .dataframe tbody tr th:only-of-type {\n",
              "        vertical-align: middle;\n",
              "    }\n",
              "\n",
              "    .dataframe tbody tr th {\n",
              "        vertical-align: top;\n",
              "    }\n",
              "\n",
              "    .dataframe thead th {\n",
              "        text-align: right;\n",
              "    }\n",
              "</style>\n",
              "<table border=\"1\" class=\"dataframe\">\n",
              "  <thead>\n",
              "    <tr style=\"text-align: right;\">\n",
              "      <th></th>\n",
              "      <th>Username</th>\n",
              "      <th>Text</th>\n",
              "      <th>Date</th>\n",
              "      <th>id</th>\n",
              "      <th>Preference</th>\n",
              "    </tr>\n",
              "  </thead>\n",
              "  <tbody>\n",
              "    <tr>\n",
              "      <th>10221</th>\n",
              "      <td>StephenAtHome</td>\n",
              "      <td>For those who insist Trump is a religious man,...</td>\n",
              "      <td>2020-09-29 22:36:37+00:00</td>\n",
              "      <td>1.311072e+18</td>\n",
              "      <td>1.0</td>\n",
              "    </tr>\n",
              "    <tr>\n",
              "      <th>11061</th>\n",
              "      <td>JimCarrey</td>\n",
              "      <td>The IRS doesn’t do Fake News. We paid for the ...</td>\n",
              "      <td>2020-09-28 01:38:07+00:00</td>\n",
              "      <td>1.310393e+18</td>\n",
              "      <td>1.0</td>\n",
              "    </tr>\n",
              "    <tr>\n",
              "      <th>21016</th>\n",
              "      <td>ChrisEvans</td>\n",
              "      <td>Looks like it's more than just reporters who w...</td>\n",
              "      <td>2017-04-15 20:45:33+00:00</td>\n",
              "      <td>8.533486e+17</td>\n",
              "      <td>1.0</td>\n",
              "    </tr>\n",
              "    <tr>\n",
              "      <th>25066</th>\n",
              "      <td>SarahKSilverman</td>\n",
              "      <td>#MakeAPlan that doesn't involve spreading COVI...</td>\n",
              "      <td>2020-10-16 04:15:33+00:00</td>\n",
              "      <td>1.316956e+18</td>\n",
              "      <td>1.0</td>\n",
              "    </tr>\n",
              "    <tr>\n",
              "      <th>28312</th>\n",
              "      <td>billmaher</td>\n",
              "      <td>It turns out Trump has a secret Chinese bank a...</td>\n",
              "      <td>2020-10-24 03:37:31+00:00</td>\n",
              "      <td>1.319845e+18</td>\n",
              "      <td>1.0</td>\n",
              "    </tr>\n",
              "    <tr>\n",
              "      <th>28364</th>\n",
              "      <td>billmaher</td>\n",
              "      <td>Wow, if lies were deductions, Trump would pay ...</td>\n",
              "      <td>2020-09-30 01:27:07+00:00</td>\n",
              "      <td>1.311115e+18</td>\n",
              "      <td>1.0</td>\n",
              "    </tr>\n",
              "    <tr>\n",
              "      <th>28802</th>\n",
              "      <td>billmaher</td>\n",
              "      <td>I know Anonymous is a big hero today, but for ...</td>\n",
              "      <td>2018-09-06 20:26:44+00:00</td>\n",
              "      <td>1.037799e+18</td>\n",
              "      <td>1.0</td>\n",
              "    </tr>\n",
              "    <tr>\n",
              "      <th>36929</th>\n",
              "      <td>iansomerhalder</td>\n",
              "      <td>Yes, have a great deal to figure out as a coun...</td>\n",
              "      <td>2016-10-31 16:45:56+00:00</td>\n",
              "      <td>7.931319e+17</td>\n",
              "      <td>1.0</td>\n",
              "    </tr>\n",
              "    <tr>\n",
              "      <th>50588</th>\n",
              "      <td>TomHolland1996</td>\n",
              "      <td>I can’t believe they don’t teach you taxes at ...</td>\n",
              "      <td>2018-02-04 13:27:31+00:00</td>\n",
              "      <td>9.601428e+17</td>\n",
              "      <td>2.0</td>\n",
              "    </tr>\n",
              "    <tr>\n",
              "      <th>57143</th>\n",
              "      <td>justdemi</td>\n",
              "      <td>Agreed! RT @NickKristof: Failing to invest in ...</td>\n",
              "      <td>2011-07-05 20:10:34+00:00</td>\n",
              "      <td>8.833900e+16</td>\n",
              "      <td>2.0</td>\n",
              "    </tr>\n",
              "    <tr>\n",
              "      <th>57971</th>\n",
              "      <td>HamillHimself</td>\n",
              "      <td>Along with death &amp;amp; taxes, nothing is more ...</td>\n",
              "      <td>2021-01-28 17:04:48+00:00</td>\n",
              "      <td>1.354838e+18</td>\n",
              "      <td>2.0</td>\n",
              "    </tr>\n",
              "    <tr>\n",
              "      <th>69103</th>\n",
              "      <td>SirPatStew</td>\n",
              "      <td>@TheSimDoughnut I am not a citizen of the US b...</td>\n",
              "      <td>2016-02-07 05:13:51+00:00</td>\n",
              "      <td>6.962002e+17</td>\n",
              "      <td>3.0</td>\n",
              "    </tr>\n",
              "    <tr>\n",
              "      <th>84068</th>\n",
              "      <td>RealJamesWoods</td>\n",
              "      <td>My dear friend @NormanChad helped out a wonder...</td>\n",
              "      <td>2020-10-19 20:50:33+00:00</td>\n",
              "      <td>1.318293e+18</td>\n",
              "      <td>3.0</td>\n",
              "    </tr>\n",
              "    <tr>\n",
              "      <th>84182</th>\n",
              "      <td>RealJamesWoods</td>\n",
              "      <td>I’ve already paid all the taxes on every dolla...</td>\n",
              "      <td>2020-10-17 17:49:34+00:00</td>\n",
              "      <td>1.317523e+18</td>\n",
              "      <td>3.0</td>\n",
              "    </tr>\n",
              "    <tr>\n",
              "      <th>84292</th>\n",
              "      <td>RealJamesWoods</td>\n",
              "      <td>#VoteNOonProp15  Proposition 15 is a Trojan ho...</td>\n",
              "      <td>2020-10-14 16:17:31+00:00</td>\n",
              "      <td>1.316413e+18</td>\n",
              "      <td>3.0</td>\n",
              "    </tr>\n",
              "    <tr>\n",
              "      <th>84465</th>\n",
              "      <td>RealJamesWoods</td>\n",
              "      <td>Yep. High taxes, riots, and streets littered w...</td>\n",
              "      <td>2020-10-08 18:30:24+00:00</td>\n",
              "      <td>1.314272e+18</td>\n",
              "      <td>3.0</td>\n",
              "    </tr>\n",
              "    <tr>\n",
              "      <th>84497</th>\n",
              "      <td>RealJamesWoods</td>\n",
              "      <td>Trump would cut taxes by about $1.7T, Biden wo...</td>\n",
              "      <td>2020-10-08 00:41:24+00:00</td>\n",
              "      <td>1.314003e+18</td>\n",
              "      <td>3.0</td>\n",
              "    </tr>\n",
              "    <tr>\n",
              "      <th>84654</th>\n",
              "      <td>RealJamesWoods</td>\n",
              "      <td>“If you vote for me your taxes are going to be...</td>\n",
              "      <td>2020-10-04 04:29:37+00:00</td>\n",
              "      <td>1.312611e+18</td>\n",
              "      <td>3.0</td>\n",
              "    </tr>\n",
              "    <tr>\n",
              "      <th>84697</th>\n",
              "      <td>RealJamesWoods</td>\n",
              "      <td>Meanwhile fires rage in Canada. Oh wait! Sorry...</td>\n",
              "      <td>2020-10-02 16:50:18+00:00</td>\n",
              "      <td>1.312072e+18</td>\n",
              "      <td>3.0</td>\n",
              "    </tr>\n",
              "    <tr>\n",
              "      <th>86296</th>\n",
              "      <td>ElizabethBanks</td>\n",
              "      <td>Def paid more for this #HugeSalad than Trump d...</td>\n",
              "      <td>2020-09-29 00:14:28+00:00</td>\n",
              "      <td>1.310735e+18</td>\n",
              "      <td>1.0</td>\n",
              "    </tr>\n",
              "    <tr>\n",
              "      <th>86878</th>\n",
              "      <td>EdwardNorton</td>\n",
              "      <td>Read these examples of the executive compensat...</td>\n",
              "      <td>2021-02-02 18:15:08+00:00</td>\n",
              "      <td>1.356667e+18</td>\n",
              "      <td>1.0</td>\n",
              "    </tr>\n",
              "    <tr>\n",
              "      <th>86912</th>\n",
              "      <td>EdwardNorton</td>\n",
              "      <td>It’s staggering how many fake-Christians are w...</td>\n",
              "      <td>2021-01-16 15:47:19+00:00</td>\n",
              "      <td>1.350470e+18</td>\n",
              "      <td>1.0</td>\n",
              "    </tr>\n",
              "    <tr>\n",
              "      <th>86968</th>\n",
              "      <td>EdwardNorton</td>\n",
              "      <td>Please, even if you vehemently oppose Joe Bide...</td>\n",
              "      <td>2020-11-25 04:44:30+00:00</td>\n",
              "      <td>1.331459e+18</td>\n",
              "      <td>1.0</td>\n",
              "    </tr>\n",
              "    <tr>\n",
              "      <th>87128</th>\n",
              "      <td>EdwardNorton</td>\n",
              "      <td>Not just re-read. Go deeper. @nytimes good wor...</td>\n",
              "      <td>2020-09-28 14:30:31+00:00</td>\n",
              "      <td>1.310588e+18</td>\n",
              "      <td>1.0</td>\n",
              "    </tr>\n",
              "    <tr>\n",
              "      <th>87187</th>\n",
              "      <td>EdwardNorton</td>\n",
              "      <td>@karaswisher @ewarren Yes, driven largely by r...</td>\n",
              "      <td>2020-08-07 00:43:08+00:00</td>\n",
              "      <td>1.291535e+18</td>\n",
              "      <td>1.0</td>\n",
              "    </tr>\n",
              "    <tr>\n",
              "      <th>87293</th>\n",
              "      <td>EdwardNorton</td>\n",
              "      <td>@NickKristof @paulkrugman Jeez, @senatemajldr ...</td>\n",
              "      <td>2020-04-24 06:34:41+00:00</td>\n",
              "      <td>1.253573e+18</td>\n",
              "      <td>1.0</td>\n",
              "    </tr>\n",
              "    <tr>\n",
              "      <th>87349</th>\n",
              "      <td>EdwardNorton</td>\n",
              "      <td>No matter what your political leanings, read t...</td>\n",
              "      <td>2020-02-01 05:58:39+00:00</td>\n",
              "      <td>1.223486e+18</td>\n",
              "      <td>1.0</td>\n",
              "    </tr>\n",
              "    <tr>\n",
              "      <th>91532</th>\n",
              "      <td>robreiner</td>\n",
              "      <td>There’s nothing to debate. Either you want som...</td>\n",
              "      <td>2020-09-29 13:06:42+00:00</td>\n",
              "      <td>1.310929e+18</td>\n",
              "      <td>1.0</td>\n",
              "    </tr>\n",
              "    <tr>\n",
              "      <th>91533</th>\n",
              "      <td>robreiner</td>\n",
              "      <td>Trump could easily prove the NYT story is a ho...</td>\n",
              "      <td>2020-09-28 14:24:38+00:00</td>\n",
              "      <td>1.310586e+18</td>\n",
              "      <td>1.0</td>\n",
              "    </tr>\n",
              "  </tbody>\n",
              "</table>\n",
              "</div>"
            ],
            "text/plain": [
              "              Username  ... Preference\n",
              "10221    StephenAtHome  ...        1.0\n",
              "11061        JimCarrey  ...        1.0\n",
              "21016       ChrisEvans  ...        1.0\n",
              "25066  SarahKSilverman  ...        1.0\n",
              "28312        billmaher  ...        1.0\n",
              "28364        billmaher  ...        1.0\n",
              "28802        billmaher  ...        1.0\n",
              "36929   iansomerhalder  ...        1.0\n",
              "50588   TomHolland1996  ...        2.0\n",
              "57143         justdemi  ...        2.0\n",
              "57971    HamillHimself  ...        2.0\n",
              "69103       SirPatStew  ...        3.0\n",
              "84068   RealJamesWoods  ...        3.0\n",
              "84182   RealJamesWoods  ...        3.0\n",
              "84292   RealJamesWoods  ...        3.0\n",
              "84465   RealJamesWoods  ...        3.0\n",
              "84497   RealJamesWoods  ...        3.0\n",
              "84654   RealJamesWoods  ...        3.0\n",
              "84697   RealJamesWoods  ...        3.0\n",
              "86296   ElizabethBanks  ...        1.0\n",
              "86878     EdwardNorton  ...        1.0\n",
              "86912     EdwardNorton  ...        1.0\n",
              "86968     EdwardNorton  ...        1.0\n",
              "87128     EdwardNorton  ...        1.0\n",
              "87187     EdwardNorton  ...        1.0\n",
              "87293     EdwardNorton  ...        1.0\n",
              "87349     EdwardNorton  ...        1.0\n",
              "91532        robreiner  ...        1.0\n",
              "91533        robreiner  ...        1.0\n",
              "\n",
              "[29 rows x 5 columns]"
            ]
          },
          "metadata": {
            "tags": []
          },
          "execution_count": 33
        }
      ]
    }
  ]
}